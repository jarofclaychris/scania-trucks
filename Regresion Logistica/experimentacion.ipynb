{
 "cells": [
  {
   "cell_type": "code",
   "execution_count": 18,
   "metadata": {},
   "outputs": [],
   "source": [
    "import numpy as np\n",
    "import pandas as pd\n",
    "import matplotlib.pyplot as plt\n",
    "\n",
    "from sklearn.model_selection import train_test_split\n",
    "from sklearn.preprocessing import StandardScaler\n",
    "from sklearn.preprocessing import Binarizer\n",
    "from sklearn.decomposition import PCA\n",
    "\n",
    "from sklearn.linear_model import LogisticRegression\n",
    "from sklearn.linear_model import LinearRegression\n",
    "from sklearn.metrics import classification_report, confusion_matrix\n",
    "%matplotlib inline"
   ]
  },
  {
   "cell_type": "code",
   "execution_count": 19,
   "metadata": {},
   "outputs": [
    {
     "name": "stdout",
     "output_type": "stream",
     "text": [
      "['aps_failure_training_set_processed_8bit.csv', '.DS_Store', 'aps_failure_test_set.csv', 'aps_failure_test_set_processed_8bit.csv', 'aps_failure_training_set.csv']\n"
     ]
    }
   ],
   "source": [
    "import os\n",
    "print(os.listdir(\"../dataset\"))"
   ]
  },
  {
   "cell_type": "code",
   "execution_count": 20,
   "metadata": {},
   "outputs": [
    {
     "name": "stdout",
     "output_type": "stream",
     "text": [
      "<class 'pandas.core.frame.DataFrame'>\n",
      "RangeIndex: 60000 entries, 0 to 59999\n",
      "Columns: 171 entries, class to eg_000\n",
      "dtypes: float64(171)\n",
      "memory usage: 78.3 MB\n"
     ]
    }
   ],
   "source": [
    "df = pd.read_csv('../dataset/aps_failure_training_set_processed_8bit.csv')\n",
    "df.info()"
   ]
  },
  {
   "cell_type": "code",
   "execution_count": 21,
   "metadata": {},
   "outputs": [
    {
     "data": {
      "text/html": [
       "<div>\n",
       "<style scoped>\n",
       "    .dataframe tbody tr th:only-of-type {\n",
       "        vertical-align: middle;\n",
       "    }\n",
       "\n",
       "    .dataframe tbody tr th {\n",
       "        vertical-align: top;\n",
       "    }\n",
       "\n",
       "    .dataframe thead th {\n",
       "        text-align: right;\n",
       "    }\n",
       "</style>\n",
       "<table border=\"1\" class=\"dataframe\">\n",
       "  <thead>\n",
       "    <tr style=\"text-align: right;\">\n",
       "      <th></th>\n",
       "      <th>class</th>\n",
       "      <th>aa_000</th>\n",
       "      <th>ab_000</th>\n",
       "      <th>ac_000</th>\n",
       "      <th>ad_000</th>\n",
       "      <th>ae_000</th>\n",
       "      <th>af_000</th>\n",
       "      <th>ag_000</th>\n",
       "      <th>ag_001</th>\n",
       "      <th>ag_002</th>\n",
       "      <th>...</th>\n",
       "      <th>ee_002</th>\n",
       "      <th>ee_003</th>\n",
       "      <th>ee_004</th>\n",
       "      <th>ee_005</th>\n",
       "      <th>ee_006</th>\n",
       "      <th>ee_007</th>\n",
       "      <th>ee_008</th>\n",
       "      <th>ee_009</th>\n",
       "      <th>ef_000</th>\n",
       "      <th>eg_000</th>\n",
       "    </tr>\n",
       "  </thead>\n",
       "  <tbody>\n",
       "    <tr>\n",
       "      <th>0</th>\n",
       "      <td>-0.992188</td>\n",
       "      <td>0.117188</td>\n",
       "      <td>-0.289062</td>\n",
       "      <td>0.992188</td>\n",
       "      <td>-0.007812</td>\n",
       "      <td>-0.046875</td>\n",
       "      <td>-0.054688</td>\n",
       "      <td>-0.007812</td>\n",
       "      <td>-0.03125</td>\n",
       "      <td>-0.054688</td>\n",
       "      <td>...</td>\n",
       "      <td>0.687500</td>\n",
       "      <td>0.515625</td>\n",
       "      <td>0.234375</td>\n",
       "      <td>0.070312</td>\n",
       "      <td>0.007812</td>\n",
       "      <td>-0.109375</td>\n",
       "      <td>-0.140625</td>\n",
       "      <td>-0.171875</td>\n",
       "      <td>-0.023438</td>\n",
       "      <td>-0.023438</td>\n",
       "    </tr>\n",
       "    <tr>\n",
       "      <th>1</th>\n",
       "      <td>-0.992188</td>\n",
       "      <td>-0.179688</td>\n",
       "      <td>-0.289062</td>\n",
       "      <td>-0.468750</td>\n",
       "      <td>-0.007812</td>\n",
       "      <td>-0.046875</td>\n",
       "      <td>-0.054688</td>\n",
       "      <td>-0.007812</td>\n",
       "      <td>-0.03125</td>\n",
       "      <td>-0.054688</td>\n",
       "      <td>...</td>\n",
       "      <td>-0.023438</td>\n",
       "      <td>-0.062500</td>\n",
       "      <td>-0.132812</td>\n",
       "      <td>-0.132812</td>\n",
       "      <td>-0.187500</td>\n",
       "      <td>-0.148438</td>\n",
       "      <td>-0.085938</td>\n",
       "      <td>-0.140625</td>\n",
       "      <td>-0.023438</td>\n",
       "      <td>-0.023438</td>\n",
       "    </tr>\n",
       "    <tr>\n",
       "      <th>2</th>\n",
       "      <td>-0.992188</td>\n",
       "      <td>-0.125000</td>\n",
       "      <td>-0.289062</td>\n",
       "      <td>-0.468750</td>\n",
       "      <td>-0.007812</td>\n",
       "      <td>-0.046875</td>\n",
       "      <td>-0.054688</td>\n",
       "      <td>-0.007812</td>\n",
       "      <td>-0.03125</td>\n",
       "      <td>-0.054688</td>\n",
       "      <td>...</td>\n",
       "      <td>-0.140625</td>\n",
       "      <td>-0.093750</td>\n",
       "      <td>-0.015625</td>\n",
       "      <td>0.015625</td>\n",
       "      <td>-0.007812</td>\n",
       "      <td>-0.109375</td>\n",
       "      <td>-0.093750</td>\n",
       "      <td>-0.164062</td>\n",
       "      <td>-0.023438</td>\n",
       "      <td>-0.023438</td>\n",
       "    </tr>\n",
       "    <tr>\n",
       "      <th>3</th>\n",
       "      <td>-0.992188</td>\n",
       "      <td>-0.406250</td>\n",
       "      <td>-0.289062</td>\n",
       "      <td>-0.468750</td>\n",
       "      <td>-0.007812</td>\n",
       "      <td>-0.046875</td>\n",
       "      <td>-0.007812</td>\n",
       "      <td>-0.007812</td>\n",
       "      <td>-0.03125</td>\n",
       "      <td>-0.054688</td>\n",
       "      <td>...</td>\n",
       "      <td>-0.382812</td>\n",
       "      <td>-0.382812</td>\n",
       "      <td>-0.375000</td>\n",
       "      <td>-0.351562</td>\n",
       "      <td>-0.312500</td>\n",
       "      <td>-0.195312</td>\n",
       "      <td>-0.304688</td>\n",
       "      <td>-0.171875</td>\n",
       "      <td>0.890625</td>\n",
       "      <td>0.992188</td>\n",
       "    </tr>\n",
       "    <tr>\n",
       "      <th>4</th>\n",
       "      <td>-0.992188</td>\n",
       "      <td>0.007812</td>\n",
       "      <td>-0.289062</td>\n",
       "      <td>-0.468750</td>\n",
       "      <td>-0.007812</td>\n",
       "      <td>-0.046875</td>\n",
       "      <td>-0.054688</td>\n",
       "      <td>-0.007812</td>\n",
       "      <td>-0.03125</td>\n",
       "      <td>-0.054688</td>\n",
       "      <td>...</td>\n",
       "      <td>0.156250</td>\n",
       "      <td>0.031250</td>\n",
       "      <td>-0.031250</td>\n",
       "      <td>-0.039062</td>\n",
       "      <td>-0.046875</td>\n",
       "      <td>-0.015625</td>\n",
       "      <td>0.656250</td>\n",
       "      <td>-0.148438</td>\n",
       "      <td>-0.023438</td>\n",
       "      <td>-0.023438</td>\n",
       "    </tr>\n",
       "  </tbody>\n",
       "</table>\n",
       "<p>5 rows × 171 columns</p>\n",
       "</div>"
      ],
      "text/plain": [
       "      class    aa_000    ab_000    ac_000    ad_000    ae_000    af_000  \\\n",
       "0 -0.992188  0.117188 -0.289062  0.992188 -0.007812 -0.046875 -0.054688   \n",
       "1 -0.992188 -0.179688 -0.289062 -0.468750 -0.007812 -0.046875 -0.054688   \n",
       "2 -0.992188 -0.125000 -0.289062 -0.468750 -0.007812 -0.046875 -0.054688   \n",
       "3 -0.992188 -0.406250 -0.289062 -0.468750 -0.007812 -0.046875 -0.007812   \n",
       "4 -0.992188  0.007812 -0.289062 -0.468750 -0.007812 -0.046875 -0.054688   \n",
       "\n",
       "     ag_000   ag_001    ag_002    ...       ee_002    ee_003    ee_004  \\\n",
       "0 -0.007812 -0.03125 -0.054688    ...     0.687500  0.515625  0.234375   \n",
       "1 -0.007812 -0.03125 -0.054688    ...    -0.023438 -0.062500 -0.132812   \n",
       "2 -0.007812 -0.03125 -0.054688    ...    -0.140625 -0.093750 -0.015625   \n",
       "3 -0.007812 -0.03125 -0.054688    ...    -0.382812 -0.382812 -0.375000   \n",
       "4 -0.007812 -0.03125 -0.054688    ...     0.156250  0.031250 -0.031250   \n",
       "\n",
       "     ee_005    ee_006    ee_007    ee_008    ee_009    ef_000    eg_000  \n",
       "0  0.070312  0.007812 -0.109375 -0.140625 -0.171875 -0.023438 -0.023438  \n",
       "1 -0.132812 -0.187500 -0.148438 -0.085938 -0.140625 -0.023438 -0.023438  \n",
       "2  0.015625 -0.007812 -0.109375 -0.093750 -0.164062 -0.023438 -0.023438  \n",
       "3 -0.351562 -0.312500 -0.195312 -0.304688 -0.171875  0.890625  0.992188  \n",
       "4 -0.039062 -0.046875 -0.015625  0.656250 -0.148438 -0.023438 -0.023438  \n",
       "\n",
       "[5 rows x 171 columns]"
      ]
     },
     "execution_count": 21,
     "metadata": {},
     "output_type": "execute_result"
    }
   ],
   "source": [
    "df.head()"
   ]
  },
  {
   "cell_type": "markdown",
   "metadata": {},
   "source": [
    "Analizemos los valores medios y la varianza de la data"
   ]
  },
  {
   "cell_type": "markdown",
   "metadata": {},
   "source": [
    "### Usar todas las columnas menos las columnas 'class' como características"
   ]
  },
  {
   "cell_type": "code",
   "execution_count": 22,
   "metadata": {},
   "outputs": [],
   "source": [
    "features = df.drop(['class'], axis=1)\n",
    "target = df['class']\n",
    "\n",
    "# Dividimos el dataset para el entrenamiento 80:20 %\n",
    "f_train, f_dev, t_train, t_dev = train_test_split(features, target, test_size=0.2, random_state=42)"
   ]
  },
  {
   "cell_type": "code",
   "execution_count": 23,
   "metadata": {},
   "outputs": [
    {
     "data": {
      "text/plain": [
       "array([-0.9921875,  0.9921875])"
      ]
     },
     "execution_count": 23,
     "metadata": {},
     "output_type": "execute_result"
    }
   ],
   "source": [
    "np.unique(target)"
   ]
  },
  {
   "cell_type": "markdown",
   "metadata": {},
   "source": [
    "### Como se usan numeros reales, se necesita binarizar en dos clases: 0 normal 1 falla"
   ]
  },
  {
   "cell_type": "code",
   "execution_count": 24,
   "metadata": {},
   "outputs": [],
   "source": [
    "# threshold classes into 0 and 1(failure)\n",
    "lb = Binarizer()\n",
    "lb.fit(t_train.values.reshape(-1, 1))\n",
    "t_train_bi = lb.transform(t_train.values.reshape(-1, 1))\n",
    "t_dev_bi = lb.transform(t_dev.values.reshape(-1, 1))"
   ]
  },
  {
   "cell_type": "code",
   "execution_count": 25,
   "metadata": {},
   "outputs": [
    {
     "data": {
      "text/plain": [
       "array([0., 1.])"
      ]
     },
     "execution_count": 25,
     "metadata": {},
     "output_type": "execute_result"
    }
   ],
   "source": [
    "np.unique(t_train_bi)"
   ]
  },
  {
   "cell_type": "markdown",
   "metadata": {},
   "source": [
    "### Para usar PCA necesitamos normalizar la data ya que se encuentra escalada"
   ]
  },
  {
   "cell_type": "code",
   "execution_count": 26,
   "metadata": {},
   "outputs": [],
   "source": [
    "from sklearn.preprocessing import scale\n",
    "f_train_norm = scale(f_train)\n",
    "f_dev_norm = scale(f_dev)"
   ]
  },
  {
   "cell_type": "code",
   "execution_count": 11,
   "metadata": {},
   "outputs": [
    {
     "name": "stdout",
     "output_type": "stream",
     "text": [
      "('Antes de normalizar:\\n',         aa_000    ab_000   ac_000    ad_000    ae_000    af_000    ag_000  \\\n",
      "48572 -0.40625 -0.289062 -0.46875 -0.007812 -0.046875 -0.054688 -0.007812   \n",
      "38696 -0.40625 -0.289062 -0.46875 -0.007812 -0.046875 -0.054688 -0.007812   \n",
      "\n",
      "        ag_001    ag_002    ag_003    ...       ee_002    ee_003  ee_004  \\\n",
      "48572 -0.03125 -0.054688 -0.117188    ...    -0.382812 -0.382812  -0.375   \n",
      "38696 -0.03125 -0.054688 -0.117188    ...    -0.382812 -0.382812  -0.375   \n",
      "\n",
      "         ee_005  ee_006    ee_007    ee_008    ee_009    ef_000    eg_000  \n",
      "48572 -0.351562 -0.3125 -0.195312 -0.304688 -0.171875 -0.023438 -0.023438  \n",
      "38696 -0.351562 -0.3125 -0.195312 -0.304688 -0.171875 -0.023438 -0.023438  \n",
      "\n",
      "[2 rows x 170 columns])\n",
      "('\\nDespu\\xc3\\xa9s de normalizar:\\n', array([[-7.66026639e-01, -6.09221700e-01, -4.77337115e-01,\n",
      "        -1.66564227e-02, -1.25460568e-01, -1.26119208e-01,\n",
      "        -3.76524017e-02, -7.64080605e-02, -1.31434087e-01,\n",
      "        -2.26290675e-01, -3.50083086e-01, -6.21688111e-01,\n",
      "        -8.36670296e-01, -7.30362036e-01, -5.07772295e-01,\n",
      "        -1.89972994e-01, -7.89430522e-01, -1.67342017e-01,\n",
      "        -7.50025953e-02, -5.11910998e-02, -2.45044736e-01,\n",
      "        -2.45709866e-01, -7.98333295e-01, -8.01093532e-01,\n",
      "        -6.26654544e-01, -7.17430419e-01, -2.03370276e-01,\n",
      "        -1.56902663e-02, -1.45020252e-01, -2.61200723e-02,\n",
      "        -4.83979632e-01, -5.20015607e-01, -5.61725927e-02,\n",
      "        -4.80318642e-02, -5.74771536e-02, -7.47656488e-02,\n",
      "        -8.22758464e-02, -3.22051178e-01, -7.15215603e-01,\n",
      "        -6.24610054e-01, -5.10507849e-01, -5.57892138e-02,\n",
      "        -4.16016198e-01, -3.95669379e-01, -3.54301972e-01,\n",
      "        -4.36549923e-01, -6.79029432e-01, -6.50358134e-01,\n",
      "        -2.27837722e-01, -1.51495248e-01, -1.19197166e-01,\n",
      "        -6.91501161e-02, -7.55323861e-01, -7.61351199e-01,\n",
      "        -7.12110430e-01, -7.52688599e-01, -7.56093646e-01,\n",
      "        -7.40098154e-01, -7.00444463e-01, -6.43428220e-01,\n",
      "        -3.35189478e-01, -2.37303213e-01, -7.77404495e-01,\n",
      "        -3.69184116e-01, -4.40917122e-01, -4.20967040e-01,\n",
      "        -3.43195946e-01, -7.89430846e-01, -7.26772161e-01,\n",
      "        -6.29884697e-01, -6.09195755e-01,  1.68644947e+00,\n",
      "         1.61001143e+00,  1.55207443e+00,  1.51838865e+00,\n",
      "         1.50857772e+00,  1.50169375e+00,  1.49948192e+00,\n",
      "         1.49566454e+00, -6.65697890e-01, -7.65909614e-01,\n",
      "        -7.77267570e-01, -7.77267570e-01, -7.74528939e-01,\n",
      "        -7.90383279e-01, -3.63817415e-01, -1.11211126e+00,\n",
      "        -1.11487915e+00, -7.76343903e-01, -1.30058955e-03,\n",
      "        -7.68047912e-01, -1.20121786e-02, -8.01267329e-01,\n",
      "        -1.51399867e-02, -7.74712806e-01, -1.43526210e-01,\n",
      "        -6.77325304e-01, -1.86127833e-01, -3.93607397e-01,\n",
      "        -1.07281827e-01, -1.93129374e-01, -2.75217648e-01,\n",
      "        -4.58142417e-01, -7.32821556e-01, -8.23319091e-01,\n",
      "        -6.85095906e-01, -4.31855234e-01, -2.94152133e-01,\n",
      "        -1.17301159e-01, -2.41301832e-02, -2.73332205e-01,\n",
      "        -7.77267570e-01, -1.85159417e-01, -7.95562395e-01,\n",
      "        -6.77828261e-01, -4.27240372e-01, -6.75504033e-01,\n",
      "        -4.69834172e-01, -7.83515092e-01, -8.45903379e-01,\n",
      "        -7.03524697e-01, -2.01062868e-01, -1.42810849e-02,\n",
      "        -6.23029155e-01, -5.10726507e-01, -9.33897962e-01,\n",
      "        -4.57539046e-01, -1.52791636e-01, -3.49702722e-01,\n",
      "        -1.19540127e-01, -7.14760007e-01, -9.42853092e-01,\n",
      "        -6.86934750e-01, -4.51983569e-01, -6.47358164e-02,\n",
      "        -8.84582683e-02, -6.68195124e-02, -1.71702699e-01,\n",
      "        -2.80971970e-02, -5.27433303e-02, -4.09302211e-02,\n",
      "        -4.84203708e-02, -7.02634758e-01, -8.12690124e-01,\n",
      "        -7.99381966e-01, -1.76958784e-01, -2.80661278e-01,\n",
      "        -7.87408728e-01, -8.07937200e-01, -5.90958239e-01,\n",
      "        -5.77008714e-01, -3.50348967e-01, -2.95336651e-01,\n",
      "        -6.23731086e-02, -8.59295793e-02, -4.89163028e-01,\n",
      "        -8.34851539e-01, -8.22008410e-01, -6.48877509e-01,\n",
      "        -6.97250440e-01, -7.79863088e-01, -7.85520591e-01,\n",
      "        -7.72096170e-01, -7.81608576e-01, -6.52599441e-01,\n",
      "        -4.46073700e-01, -6.03258839e-01, -3.99178248e-01,\n",
      "        -6.61544584e-02, -8.16185768e-02],\n",
      "       [-7.66026639e-01, -6.09221700e-01, -4.77337115e-01,\n",
      "        -1.66564227e-02, -1.25460568e-01, -1.26119208e-01,\n",
      "        -3.76524017e-02, -7.64080605e-02, -1.31434087e-01,\n",
      "        -2.26290675e-01, -3.50083086e-01, -6.21688111e-01,\n",
      "        -8.36670296e-01, -7.30362036e-01, -5.07772295e-01,\n",
      "        -1.89972994e-01, -7.89430522e-01, -1.67342017e-01,\n",
      "        -7.50025953e-02, -5.11910998e-02, -2.45044736e-01,\n",
      "        -2.45709866e-01, -7.98333295e-01, -8.01093532e-01,\n",
      "        -6.51753605e-01, -6.93836846e-01, -2.03370276e-01,\n",
      "        -1.56902663e-02, -1.45020252e-01, -2.61200723e-02,\n",
      "        -4.18242092e-01, -5.20015607e-01, -5.61725927e-02,\n",
      "        -4.80318642e-02, -5.74771536e-02, -7.47656488e-02,\n",
      "        -8.22758464e-02, -3.22051178e-01, -6.92524107e-01,\n",
      "        -6.49337049e-01, -5.36626878e-01, -5.57892138e-02,\n",
      "        -4.16016198e-01, -4.35679934e-01, -3.54301972e-01,\n",
      "        -4.36549923e-01, -6.79029432e-01, -6.50358134e-01,\n",
      "        -2.27837722e-01, -1.51495248e-01, -1.19197166e-01,\n",
      "        -6.91501161e-02, -7.55323861e-01, -7.61351199e-01,\n",
      "        -7.12110430e-01, -7.52688599e-01, -7.56093646e-01,\n",
      "        -7.40098154e-01, -7.00444463e-01, -6.43428220e-01,\n",
      "        -3.35189478e-01, -2.37303213e-01, -7.77404495e-01,\n",
      "        -3.69184116e-01, -4.40917122e-01, -4.20967040e-01,\n",
      "        -3.43195946e-01, -7.89430846e-01, -7.26772161e-01,\n",
      "        -6.54412638e-01, -6.09195755e-01,  1.68644947e+00,\n",
      "         1.61001143e+00,  1.55207443e+00,  1.51838865e+00,\n",
      "         1.50857772e+00,  1.50169375e+00,  1.49948192e+00,\n",
      "         1.49566454e+00, -1.00239209e+00, -7.65909614e-01,\n",
      "        -7.77267570e-01, -7.77267570e-01, -7.74528939e-01,\n",
      "        -7.90383279e-01, -3.63817415e-01, -1.12215826e+00,\n",
      "        -1.11487915e+00, -7.76343903e-01, -1.30058955e-03,\n",
      "        -7.50548903e-01, -1.20121786e-02, -7.67721410e-01,\n",
      "        -1.51399867e-02, -7.74712806e-01, -1.96576410e-01,\n",
      "        -6.77325304e-01, -1.86127833e-01, -4.48857891e-01,\n",
      "        -1.07281827e-01, -1.93129374e-01, -2.75217648e-01,\n",
      "        -4.58142417e-01, -7.32821556e-01, -8.23319091e-01,\n",
      "        -6.85095906e-01, -4.31855234e-01, -2.94152133e-01,\n",
      "        -1.17301159e-01, -2.41301832e-02, -2.73332205e-01,\n",
      "        -7.77267570e-01, -1.85159417e-01, -1.02910855e+00,\n",
      "        -6.77828261e-01, -4.27240372e-01, -6.75504033e-01,\n",
      "        -4.69834172e-01, -7.83515092e-01, -8.45903379e-01,\n",
      "        -6.34489575e-01, -2.01062868e-01, -1.42810849e-02,\n",
      "        -5.45918703e-01, -5.10726507e-01, -9.33897962e-01,\n",
      "        -4.57539046e-01, -1.52791636e-01, -3.49702722e-01,\n",
      "        -1.19540127e-01, -7.14760007e-01, -9.42853092e-01,\n",
      "        -6.86934750e-01, -6.11883652e-01, -6.47358164e-02,\n",
      "        -8.84582683e-02, -6.68195124e-02, -2.19507723e-01,\n",
      "        -2.80971970e-02, -5.27433303e-02, -4.09302211e-02,\n",
      "        -4.84203708e-02, -7.02634758e-01, -8.12690124e-01,\n",
      "        -7.99381966e-01, -1.76958784e-01, -2.80661278e-01,\n",
      "        -7.87408728e-01, -8.07937200e-01, -5.90958239e-01,\n",
      "        -5.77008714e-01, -3.22582792e-01, -2.95336651e-01,\n",
      "        -6.23731086e-02, -8.59295793e-02, -4.89163028e-01,\n",
      "        -7.90724347e-01, -8.22008410e-01, -6.48877509e-01,\n",
      "        -6.97250440e-01, -7.79863088e-01, -7.85520591e-01,\n",
      "        -7.72096170e-01, -7.81608576e-01, -6.52599441e-01,\n",
      "        -4.46073700e-01, -6.03258839e-01, -3.99178248e-01,\n",
      "        -6.61544584e-02, -8.16185768e-02]]))\n"
     ]
    }
   ],
   "source": [
    "# Comparemos los datos con y sin normalización:\n",
    "print('Antes de normalizar:\\n', f_train[:2])\n",
    "print('\\nDespués de normalizar:\\n', f_train_norm[:2])"
   ]
  },
  {
   "cell_type": "markdown",
   "metadata": {},
   "source": [
    "### Gráfico de la varianza"
   ]
  },
  {
   "cell_type": "code",
   "execution_count": 28,
   "metadata": {},
   "outputs": [
    {
     "data": {
      "image/png": "[encoded data removed]",
      "text/plain": [
       "<Figure size 432x288 with 1 Axes>"
      ]
     },
     "metadata": {},
     "output_type": "display_data"
    }
   ],
   "source": [
    "# Varianza de los componentes principales\n",
    "# plt.bar(pca.explained_variance_)\n",
    "\n",
    "plt.plot(np.cumsum(pca.explained_variance_ratio_))\n",
    "plt.xlabel('number of components')\n",
    "plt.ylabel('cumulative explained variance');"
   ]
  },
  {
   "cell_type": "code",
   "execution_count": 29,
   "metadata": {},
   "outputs": [
    {
     "data": {
      "text/plain": [
       "<BarContainer object of 60 artists>"
      ]
     },
     "execution_count": 29,
     "metadata": {},
     "output_type": "execute_result"
    },
    {
     "data": {
      "image/png": "[encoded data removed]",
      "text/plain": [
       "<Figure size 432x288 with 1 Axes>"
      ]
     },
     "metadata": {},
     "output_type": "display_data"
    }
   ],
   "source": [
    "plt.bar(range(60),pca.explained_variance_ratio_)"
   ]
  },
  {
   "cell_type": "code",
   "execution_count": 32,
   "metadata": {},
   "outputs": [],
   "source": [
    "from sklearn.decomposition import PCA\n",
    "#Seleccionadmos los principales componentes de PCA\n",
    "pca = PCA(n_components=60).fit(f_train_norm)\n",
    "\n",
    "f_pca_train = pca.transform(f_train_norm)\n",
    "f_pca_dev = pca.transform(f_dev_norm)"
   ]
  },
  {
   "cell_type": "markdown",
   "metadata": {},
   "source": [
    "### Generamos el training and test set"
   ]
  },
  {
   "cell_type": "code",
   "execution_count": 33,
   "metadata": {},
   "outputs": [],
   "source": [
    "# Separando data de entrenamiento y prueba\n",
    "X_train = f_pca_train\n",
    "X_dev = f_pca_dev\n",
    "y_train = t_train_bi.reshape(-1,1)\n",
    "y_dev = t_dev_bi.reshape(-1,1)"
   ]
  },
  {
   "cell_type": "markdown",
   "metadata": {},
   "source": [
    "### Entrenamos Linear Regression"
   ]
  },
  {
   "cell_type": "code",
   "execution_count": 34,
   "metadata": {},
   "outputs": [
    {
     "name": "stdout",
     "output_type": "stream",
     "text": [
      "             precision    recall  f1-score   support\n",
      "\n",
      "        0.0       0.99      1.00      0.99     11788\n",
      "        1.0       0.83      0.37      0.51       212\n",
      "\n",
      "avg / total       0.99      0.99      0.99     12000\n",
      "\n"
     ]
    }
   ],
   "source": [
    "LR = LinearRegression()\n",
    "LR.fit(X_train, y_train)\n",
    "prediction = LR.predict(X_dev)\n",
    "pred = (prediction > 0.5).astype(int)\n",
    "print(classification_report(y_dev, pred))"
   ]
  },
  {
   "cell_type": "code",
   "execution_count": 35,
   "metadata": {},
   "outputs": [
    {
     "name": "stdout",
     "output_type": "stream",
     "text": [
      "[[11772    16]\n",
      " [  134    78]]\n"
     ]
    }
   ],
   "source": [
    "resultado = confusion_matrix(y_dev, pred)\n",
    "print(resultado)"
   ]
  },
  {
   "cell_type": "markdown",
   "metadata": {},
   "source": [
    "### Resultado Linear Regression"
   ]
  },
  {
   "cell_type": "code",
   "execution_count": 37,
   "metadata": {},
   "outputs": [
    {
     "name": "stdout",
     "output_type": "stream",
     "text": [
      "Falsos negativos 134\n",
      "Falsos positivos 16\n",
      "Costo total 67160\n"
     ]
    }
   ],
   "source": [
    "print \"Falsos negativos\",resultado[1,0]\n",
    "print \"Falsos positivos\",resultado[0,1]\n",
    "print \"Costo total\", (resultado[1,0]*500 + resultado[0,1]*10)"
   ]
  },
  {
   "cell_type": "markdown",
   "metadata": {},
   "source": [
    "### Entrenamos Regresión Logística"
   ]
  },
  {
   "cell_type": "code",
   "execution_count": 38,
   "metadata": {},
   "outputs": [
    {
     "name": "stderr",
     "output_type": "stream",
     "text": [
      "/Users/luciacervantes/anaconda2/lib/python2.7/site-packages/sklearn/utils/validation.py:578: DataConversionWarning: A column-vector y was passed when a 1d array was expected. Please change the shape of y to (n_samples, ), for example using ravel().\n",
      "  y = column_or_1d(y, warn=True)\n"
     ]
    },
    {
     "name": "stdout",
     "output_type": "stream",
     "text": [
      "             precision    recall  f1-score   support\n",
      "\n",
      "        0.0       0.99      1.00      0.99     11788\n",
      "        1.0       0.78      0.46      0.58       212\n",
      "\n",
      "avg / total       0.99      0.99      0.99     12000\n",
      "\n"
     ]
    }
   ],
   "source": [
    "LR = LogisticRegression()\n",
    "LR.fit(X_train, y_train)\n",
    "\n",
    "predictions = LR.predict(X_dev)\n",
    "pred = (predictions > 0.5).astype(int)\n",
    "print(classification_report(y_dev, pred))"
   ]
  },
  {
   "cell_type": "code",
   "execution_count": 39,
   "metadata": {},
   "outputs": [
    {
     "name": "stdout",
     "output_type": "stream",
     "text": [
      "[[11760    28]\n",
      " [  115    97]]\n"
     ]
    }
   ],
   "source": [
    "resultado = confusion_matrix(y_dev, pred)\n",
    "print(resultado)"
   ]
  },
  {
   "cell_type": "markdown",
   "metadata": {},
   "source": [
    "### Resultado Regresión Logística"
   ]
  },
  {
   "cell_type": "code",
   "execution_count": 40,
   "metadata": {
    "scrolled": true
   },
   "outputs": [
    {
     "name": "stdout",
     "output_type": "stream",
     "text": [
      "Falsos negativos 115\n",
      "Falsos positivos 28\n",
      "Costo total 57780\n"
     ]
    }
   ],
   "source": [
    "print \"Falsos negativos\",resultado[1,0]\n",
    "print \"Falsos positivos\",resultado[0,1]\n",
    "print \"Costo total\", (resultado[1,0]*500 + resultado[0,1]*10)"
   ]
  },
  {
   "cell_type": "code",
   "execution_count": null,
   "metadata": {},
   "outputs": [],
   "source": []
  }
 ],
 "metadata": {
  "kernelspec": {
   "display_name": "Python 2",
   "language": "python",
   "name": "python2"
  },
  "language_info": {
   "codemirror_mode": {
    "name": "ipython",
    "version": 2
   },
   "file_extension": ".py",
   "mimetype": "text/x-python",
   "name": "python",
   "nbconvert_exporter": "python",
   "pygments_lexer": "ipython2",
   "version": "2.7.14"
  }
 },
 "nbformat": 4,
 "nbformat_minor": 2
}
