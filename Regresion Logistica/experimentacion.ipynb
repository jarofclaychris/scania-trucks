{
 "cells": [
  {
   "cell_type": "code",
   "execution_count": 179,
   "metadata": {},
   "outputs": [],
   "source": [
    "import numpy as np\n",
    "import pandas as pd\n",
    "import matplotlib.pyplot as plt\n",
    "\n",
    "from sklearn.model_selection import train_test_split\n",
    "from sklearn.preprocessing import StandardScaler\n",
    "from sklearn.preprocessing import Binarizer\n",
    "from sklearn.decomposition import PCA\n",
    "\n",
    "from sklearn.linear_model import LogisticRegression\n",
    "from sklearn.linear_model import LinearRegression\n",
    "from sklearn.metrics import classification_report, confusion_matrix\n",
    "%matplotlib inline"
   ]
  },
  {
   "cell_type": "code",
   "execution_count": 115,
   "metadata": {},
   "outputs": [
    {
     "name": "stdout",
     "output_type": "stream",
     "text": [
      "['aps_failure_training_set_processed_8bit.csv', '.DS_Store', 'aps_failure_test_set.csv', 'aps_failure_test_set_processed_8bit.csv', 'aps_failure_training_set.csv']\n"
     ]
    }
   ],
   "source": [
    "import os\n",
    "print(os.listdir(\"../dataset\"))"
   ]
  },
  {
   "cell_type": "code",
   "execution_count": 202,
   "metadata": {},
   "outputs": [
    {
     "name": "stdout",
     "output_type": "stream",
     "text": [
      "<class 'pandas.core.frame.DataFrame'>\n",
      "RangeIndex: 60000 entries, 0 to 59999\n",
      "Columns: 171 entries, class to eg_000\n",
      "dtypes: float64(171)\n",
      "memory usage: 78.3 MB\n"
     ]
    }
   ],
   "source": [
    "df = pd.read_csv('../dataset/aps_failure_training_set_processed_8bit.csv')\n",
    "df.info()"
   ]
  },
  {
   "cell_type": "code",
   "execution_count": 117,
   "metadata": {},
   "outputs": [
    {
     "data": {
      "text/html": [
       "<div>\n",
       "<style scoped>\n",
       "    .dataframe tbody tr th:only-of-type {\n",
       "        vertical-align: middle;\n",
       "    }\n",
       "\n",
       "    .dataframe tbody tr th {\n",
       "        vertical-align: top;\n",
       "    }\n",
       "\n",
       "    .dataframe thead th {\n",
       "        text-align: right;\n",
       "    }\n",
       "</style>\n",
       "<table border=\"1\" class=\"dataframe\">\n",
       "  <thead>\n",
       "    <tr style=\"text-align: right;\">\n",
       "      <th></th>\n",
       "      <th>class</th>\n",
       "      <th>aa_000</th>\n",
       "      <th>ab_000</th>\n",
       "      <th>ac_000</th>\n",
       "      <th>ad_000</th>\n",
       "      <th>ae_000</th>\n",
       "      <th>af_000</th>\n",
       "      <th>ag_000</th>\n",
       "      <th>ag_001</th>\n",
       "      <th>ag_002</th>\n",
       "      <th>...</th>\n",
       "      <th>ee_002</th>\n",
       "      <th>ee_003</th>\n",
       "      <th>ee_004</th>\n",
       "      <th>ee_005</th>\n",
       "      <th>ee_006</th>\n",
       "      <th>ee_007</th>\n",
       "      <th>ee_008</th>\n",
       "      <th>ee_009</th>\n",
       "      <th>ef_000</th>\n",
       "      <th>eg_000</th>\n",
       "    </tr>\n",
       "  </thead>\n",
       "  <tbody>\n",
       "    <tr>\n",
       "      <th>0</th>\n",
       "      <td>-0.992188</td>\n",
       "      <td>0.117188</td>\n",
       "      <td>-0.289062</td>\n",
       "      <td>0.992188</td>\n",
       "      <td>-0.007812</td>\n",
       "      <td>-0.046875</td>\n",
       "      <td>-0.054688</td>\n",
       "      <td>-0.007812</td>\n",
       "      <td>-0.03125</td>\n",
       "      <td>-0.054688</td>\n",
       "      <td>...</td>\n",
       "      <td>0.687500</td>\n",
       "      <td>0.515625</td>\n",
       "      <td>0.234375</td>\n",
       "      <td>0.070312</td>\n",
       "      <td>0.007812</td>\n",
       "      <td>-0.109375</td>\n",
       "      <td>-0.140625</td>\n",
       "      <td>-0.171875</td>\n",
       "      <td>-0.023438</td>\n",
       "      <td>-0.023438</td>\n",
       "    </tr>\n",
       "    <tr>\n",
       "      <th>1</th>\n",
       "      <td>-0.992188</td>\n",
       "      <td>-0.179688</td>\n",
       "      <td>-0.289062</td>\n",
       "      <td>-0.468750</td>\n",
       "      <td>-0.007812</td>\n",
       "      <td>-0.046875</td>\n",
       "      <td>-0.054688</td>\n",
       "      <td>-0.007812</td>\n",
       "      <td>-0.03125</td>\n",
       "      <td>-0.054688</td>\n",
       "      <td>...</td>\n",
       "      <td>-0.023438</td>\n",
       "      <td>-0.062500</td>\n",
       "      <td>-0.132812</td>\n",
       "      <td>-0.132812</td>\n",
       "      <td>-0.187500</td>\n",
       "      <td>-0.148438</td>\n",
       "      <td>-0.085938</td>\n",
       "      <td>-0.140625</td>\n",
       "      <td>-0.023438</td>\n",
       "      <td>-0.023438</td>\n",
       "    </tr>\n",
       "    <tr>\n",
       "      <th>2</th>\n",
       "      <td>-0.992188</td>\n",
       "      <td>-0.125000</td>\n",
       "      <td>-0.289062</td>\n",
       "      <td>-0.468750</td>\n",
       "      <td>-0.007812</td>\n",
       "      <td>-0.046875</td>\n",
       "      <td>-0.054688</td>\n",
       "      <td>-0.007812</td>\n",
       "      <td>-0.03125</td>\n",
       "      <td>-0.054688</td>\n",
       "      <td>...</td>\n",
       "      <td>-0.140625</td>\n",
       "      <td>-0.093750</td>\n",
       "      <td>-0.015625</td>\n",
       "      <td>0.015625</td>\n",
       "      <td>-0.007812</td>\n",
       "      <td>-0.109375</td>\n",
       "      <td>-0.093750</td>\n",
       "      <td>-0.164062</td>\n",
       "      <td>-0.023438</td>\n",
       "      <td>-0.023438</td>\n",
       "    </tr>\n",
       "    <tr>\n",
       "      <th>3</th>\n",
       "      <td>-0.992188</td>\n",
       "      <td>-0.406250</td>\n",
       "      <td>-0.289062</td>\n",
       "      <td>-0.468750</td>\n",
       "      <td>-0.007812</td>\n",
       "      <td>-0.046875</td>\n",
       "      <td>-0.007812</td>\n",
       "      <td>-0.007812</td>\n",
       "      <td>-0.03125</td>\n",
       "      <td>-0.054688</td>\n",
       "      <td>...</td>\n",
       "      <td>-0.382812</td>\n",
       "      <td>-0.382812</td>\n",
       "      <td>-0.375000</td>\n",
       "      <td>-0.351562</td>\n",
       "      <td>-0.312500</td>\n",
       "      <td>-0.195312</td>\n",
       "      <td>-0.304688</td>\n",
       "      <td>-0.171875</td>\n",
       "      <td>0.890625</td>\n",
       "      <td>0.992188</td>\n",
       "    </tr>\n",
       "    <tr>\n",
       "      <th>4</th>\n",
       "      <td>-0.992188</td>\n",
       "      <td>0.007812</td>\n",
       "      <td>-0.289062</td>\n",
       "      <td>-0.468750</td>\n",
       "      <td>-0.007812</td>\n",
       "      <td>-0.046875</td>\n",
       "      <td>-0.054688</td>\n",
       "      <td>-0.007812</td>\n",
       "      <td>-0.03125</td>\n",
       "      <td>-0.054688</td>\n",
       "      <td>...</td>\n",
       "      <td>0.156250</td>\n",
       "      <td>0.031250</td>\n",
       "      <td>-0.031250</td>\n",
       "      <td>-0.039062</td>\n",
       "      <td>-0.046875</td>\n",
       "      <td>-0.015625</td>\n",
       "      <td>0.656250</td>\n",
       "      <td>-0.148438</td>\n",
       "      <td>-0.023438</td>\n",
       "      <td>-0.023438</td>\n",
       "    </tr>\n",
       "  </tbody>\n",
       "</table>\n",
       "<p>5 rows × 171 columns</p>\n",
       "</div>"
      ],
      "text/plain": [
       "      class    aa_000    ab_000    ac_000    ad_000    ae_000    af_000  \\\n",
       "0 -0.992188  0.117188 -0.289062  0.992188 -0.007812 -0.046875 -0.054688   \n",
       "1 -0.992188 -0.179688 -0.289062 -0.468750 -0.007812 -0.046875 -0.054688   \n",
       "2 -0.992188 -0.125000 -0.289062 -0.468750 -0.007812 -0.046875 -0.054688   \n",
       "3 -0.992188 -0.406250 -0.289062 -0.468750 -0.007812 -0.046875 -0.007812   \n",
       "4 -0.992188  0.007812 -0.289062 -0.468750 -0.007812 -0.046875 -0.054688   \n",
       "\n",
       "     ag_000   ag_001    ag_002    ...       ee_002    ee_003    ee_004  \\\n",
       "0 -0.007812 -0.03125 -0.054688    ...     0.687500  0.515625  0.234375   \n",
       "1 -0.007812 -0.03125 -0.054688    ...    -0.023438 -0.062500 -0.132812   \n",
       "2 -0.007812 -0.03125 -0.054688    ...    -0.140625 -0.093750 -0.015625   \n",
       "3 -0.007812 -0.03125 -0.054688    ...    -0.382812 -0.382812 -0.375000   \n",
       "4 -0.007812 -0.03125 -0.054688    ...     0.156250  0.031250 -0.031250   \n",
       "\n",
       "     ee_005    ee_006    ee_007    ee_008    ee_009    ef_000    eg_000  \n",
       "0  0.070312  0.007812 -0.109375 -0.140625 -0.171875 -0.023438 -0.023438  \n",
       "1 -0.132812 -0.187500 -0.148438 -0.085938 -0.140625 -0.023438 -0.023438  \n",
       "2  0.015625 -0.007812 -0.109375 -0.093750 -0.164062 -0.023438 -0.023438  \n",
       "3 -0.351562 -0.312500 -0.195312 -0.304688 -0.171875  0.890625  0.992188  \n",
       "4 -0.039062 -0.046875 -0.015625  0.656250 -0.148438 -0.023438 -0.023438  \n",
       "\n",
       "[5 rows x 171 columns]"
      ]
     },
     "execution_count": 117,
     "metadata": {},
     "output_type": "execute_result"
    }
   ],
   "source": [
    "df.head()"
   ]
  },
  {
   "cell_type": "markdown",
   "metadata": {},
   "source": [
    "Analizemos los valores medios y la varianza de la data"
   ]
  },
  {
   "cell_type": "markdown",
   "metadata": {},
   "source": [
    "### Usar todas las columnas menos las columnas 'class' como características"
   ]
  },
  {
   "cell_type": "code",
   "execution_count": 203,
   "metadata": {},
   "outputs": [],
   "source": [
    "features = df.drop(['class'], axis=1)\n",
    "target = df['class']\n",
    "\n",
    "# Dividimos el dataset para el entrenamiento 80:20 %\n",
    "f_train, f_dev, t_train, t_dev = train_test_split(features, target, test_size=0.2, random_state=42)"
   ]
  },
  {
   "cell_type": "code",
   "execution_count": 173,
   "metadata": {},
   "outputs": [
    {
     "data": {
      "text/plain": [
       "array([-0.9921875,  0.9921875])"
      ]
     },
     "execution_count": 173,
     "metadata": {},
     "output_type": "execute_result"
    }
   ],
   "source": [
    "np.unique(target)"
   ]
  },
  {
   "cell_type": "markdown",
   "metadata": {},
   "source": [
    "### Como se usan numeros reales, se necesita binarizar en dos clases: 0 normal 1 falla"
   ]
  },
  {
   "cell_type": "code",
   "execution_count": 204,
   "metadata": {},
   "outputs": [],
   "source": [
    "# threshold classes into 0 and 1(failure)\n",
    "lb = Binarizer()\n",
    "lb.fit(t_train.values.reshape(-1, 1))\n",
    "t_train_bi = lb.transform(t_train.values.reshape(-1, 1))\n",
    "t_dev_bi = lb.transform(t_dev.values.reshape(-1, 1))"
   ]
  },
  {
   "cell_type": "code",
   "execution_count": 189,
   "metadata": {},
   "outputs": [
    {
     "data": {
      "text/plain": [
       "array([0., 1.])"
      ]
     },
     "execution_count": 189,
     "metadata": {},
     "output_type": "execute_result"
    }
   ],
   "source": [
    "np.unique(t_train_bi)"
   ]
  },
  {
   "cell_type": "markdown",
   "metadata": {},
   "source": [
    "### Para usar PCA necesitamos normalizar la data ya que se encuentra escalada"
   ]
  },
  {
   "cell_type": "code",
   "execution_count": 190,
   "metadata": {},
   "outputs": [],
   "source": [
    "# Normalizando con el método estándar\n",
    "# scaler = StandardScaler()\n",
    "# scaler.fit(f_train)\n",
    "# f_nor_train = scaler.transform(f_train)\n",
    "# f_nor_dev = scaler.transform(f_dev)\n",
    "\n",
    "# Seleccionando los principales componentes con el PCA\n",
    "# pca = PCA(n_components=60)\n",
    "# pca.fit(f_nor_train)\n",
    "# f_pca_train = pca.transform(f_nor_train)\n",
    "# f_pca_dev = pca.transform(f_nor_dev)"
   ]
  },
  {
   "cell_type": "code",
   "execution_count": 211,
   "metadata": {},
   "outputs": [],
   "source": [
    "from sklearn.preprocessing import scale\n",
    "f_train_norm = scale(f_train)\n",
    "f_dev_norm = scale(f_dev)\n",
    "# pd.DataFrame(X_norm, index=features.index, columns=features.columns).head()"
   ]
  },
  {
   "cell_type": "code",
   "execution_count": 210,
   "metadata": {},
   "outputs": [],
   "source": [
    "# Comparemos los datos con y sin normalización:\n",
    "print('Antes de normalizar:\\n', f_train[:2])\n",
    "print('\\nDespués de normalizar:\\n', f_train_norm[:2])"
   ]
  },
  {
   "cell_type": "code",
   "execution_count": 212,
   "metadata": {},
   "outputs": [],
   "source": [
    "from sklearn.decomposition import PCA\n",
    "pca = PCA().fit(f_train_norm)\n",
    "\n",
    "f_nor_train = pca.transform(f_train_norm)\n",
    "f_nor_dev = pca.transform(f_dev_norm)"
   ]
  },
  {
   "cell_type": "code",
   "execution_count": 213,
   "metadata": {},
   "outputs": [
    {
     "name": "stdout",
     "output_type": "stream",
     "text": [
      "Number of components  170\n"
     ]
    }
   ],
   "source": [
    "print \"Number of components \", pca.n_components_"
   ]
  },
  {
   "cell_type": "markdown",
   "metadata": {},
   "source": [
    "### Gráfico de la varianza"
   ]
  },
  {
   "cell_type": "code",
   "execution_count": 239,
   "metadata": {},
   "outputs": [
    {
     "data": {
      "image/png": "[encoded data removed]",
      "text/plain": [
       "<Figure size 432x288 with 1 Axes>"
      ]
     },
     "metadata": {},
     "output_type": "display_data"
    }
   ],
   "source": [
    "# Varianza de los componentes principales\n",
    "# plt.bar(pca.explained_variance_)\n",
    "\n",
    "plt.plot(np.cumsum(pca.explained_variance_ratio_))\n",
    "plt.xlabel('number of components')\n",
    "plt.ylabel('cumulative explained variance');"
   ]
  },
  {
   "cell_type": "markdown",
   "metadata": {},
   "source": [
    "### Generamos el training and test set"
   ]
  },
  {
   "cell_type": "code",
   "execution_count": 216,
   "metadata": {},
   "outputs": [],
   "source": [
    "# Separando data de entrenamiento y prueba\n",
    "X_train = f_pca_train\n",
    "X_dev = f_pca_dev\n",
    "y_train = t_train_bi.reshape(-1,1)\n",
    "y_dev = t_dev_bi.reshape(-1,1)"
   ]
  },
  {
   "cell_type": "markdown",
   "metadata": {},
   "source": [
    "### Entrenamos Linear Regression"
   ]
  },
  {
   "cell_type": "code",
   "execution_count": 217,
   "metadata": {},
   "outputs": [
    {
     "name": "stdout",
     "output_type": "stream",
     "text": [
      "             precision    recall  f1-score   support\n",
      "\n",
      "        0.0       0.99      1.00      0.99     11788\n",
      "        1.0       0.82      0.38      0.52       212\n",
      "\n",
      "avg / total       0.99      0.99      0.99     12000\n",
      "\n"
     ]
    }
   ],
   "source": [
    "LR = LinearRegression()\n",
    "LR.fit(X_train, y_train)\n",
    "prediction = LR.predict(X_dev)\n",
    "pred = (prediction > 0.5).astype(int)\n",
    "print(classification_report(y_dev, pred))"
   ]
  },
  {
   "cell_type": "code",
   "execution_count": 218,
   "metadata": {},
   "outputs": [
    {
     "name": "stdout",
     "output_type": "stream",
     "text": [
      "[[11770    18]\n",
      " [  131    81]]\n"
     ]
    }
   ],
   "source": [
    "resultado = confusion_matrix(y_dev, pred)\n",
    "print(resultado)"
   ]
  },
  {
   "cell_type": "markdown",
   "metadata": {},
   "source": [
    "### Resultado"
   ]
  },
  {
   "cell_type": "code",
   "execution_count": 219,
   "metadata": {},
   "outputs": [
    {
     "name": "stdout",
     "output_type": "stream",
     "text": [
      "Falsos negativos 131\n",
      "Falsos positivos 18\n",
      "Costo total 65680\n"
     ]
    }
   ],
   "source": [
    "print \"Falsos negativos\",resultado[1,0]\n",
    "print \"Falsos positivos\",resultado[0,1]\n",
    "print \"Costo total\", (resultado[1,0]*500 + resultado[0,1]*10)"
   ]
  },
  {
   "cell_type": "markdown",
   "metadata": {},
   "source": [
    "### Entrenamos Regresión Logística"
   ]
  },
  {
   "cell_type": "code",
   "execution_count": 220,
   "metadata": {},
   "outputs": [
    {
     "name": "stdout",
     "output_type": "stream",
     "text": [
      "             precision    recall  f1-score   support\n",
      "\n",
      "        0.0       0.99      1.00      0.99     11788\n",
      "        1.0       0.76      0.52      0.62       212\n",
      "\n",
      "avg / total       0.99      0.99      0.99     12000\n",
      "\n"
     ]
    }
   ],
   "source": [
    "LR = LogisticRegression()\n",
    "LR.fit(X_train, y_train)\n",
    "\n",
    "predictions = LR.predict(X_dev)\n",
    "pred = (predictions > 0.5).astype(int)\n",
    "print(classification_report(y_dev, pred))"
   ]
  },
  {
   "cell_type": "code",
   "execution_count": 221,
   "metadata": {},
   "outputs": [
    {
     "name": "stdout",
     "output_type": "stream",
     "text": [
      "[[11753    35]\n",
      " [  102   110]]\n"
     ]
    }
   ],
   "source": [
    "resultado = confusion_matrix(y_dev, pred)\n",
    "print(resultado)"
   ]
  },
  {
   "cell_type": "code",
   "execution_count": 222,
   "metadata": {
    "scrolled": true
   },
   "outputs": [
    {
     "name": "stdout",
     "output_type": "stream",
     "text": [
      "Falsos negativos 102\n",
      "Falsos positivos 35\n",
      "Costo total 51350\n"
     ]
    }
   ],
   "source": [
    "print \"Falsos negativos\",resultado[1,0]\n",
    "print \"Falsos positivos\",resultado[0,1]\n",
    "print \"Costo total\", (resultado[1,0]*500 + resultado[0,1]*10)"
   ]
  },
  {
   "cell_type": "code",
   "execution_count": null,
   "metadata": {},
   "outputs": [],
   "source": []
  }
 ],
 "metadata": {
  "kernelspec": {
   "display_name": "Python 2",
   "language": "python",
   "name": "python2"
  },
  "language_info": {
   "codemirror_mode": {
    "name": "ipython",
    "version": 2
   },
   "file_extension": ".py",
   "mimetype": "text/x-python",
   "name": "python",
   "nbconvert_exporter": "python",
   "pygments_lexer": "ipython2",
   "version": "2.7.14"
  }
 },
 "nbformat": 4,
 "nbformat_minor": 2
}
