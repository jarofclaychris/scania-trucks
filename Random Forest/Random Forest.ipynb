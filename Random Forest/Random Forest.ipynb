{
 "cells": [
  {
   "cell_type": "code",
   "execution_count": 1,
   "metadata": {},
   "outputs": [
    {
     "name": "stderr",
     "output_type": "stream",
     "text": [
      "W:\\anaconda_python\\lib\\site-packages\\sklearn\\cross_validation.py:41: DeprecationWarning: This module was deprecated in version 0.18 in favor of the model_selection module into which all the refactored classes and functions are moved. Also note that the interface of the new CV iterators are different from that of this module. This module will be removed in 0.20.\n",
      "  \"This module will be removed in 0.20.\", DeprecationWarning)\n"
     ]
    }
   ],
   "source": [
    "import pandas as pd\n",
    "import numpy as np\n",
    "from scipy import stats\n",
    "from sklearn.preprocessing import StandardScaler\n",
    "from sklearn.decomposition import PCA\n",
    "import matplotlib.pyplot as plt\n",
    "from sklearn.cross_validation import train_test_split\n",
    "from sklearn.linear_model import LogisticRegression\n",
    "from sklearn.cross_validation import KFold,cross_val_score\n",
    "from sklearn.metrics import accuracy_score,roc_curve,confusion_matrix,precision_recall_curve,auc,roc_auc_score,recall_score,classification_report\n",
    "from sklearn.metrics import f1_score\n",
    "from sklearn.ensemble import RandomForestClassifier\n",
    "from collections import OrderedDict\n",
    "from sklearn import svm\n",
    "import random"
   ]
  },
  {
   "cell_type": "code",
   "execution_count": 3,
   "metadata": {},
   "outputs": [],
   "source": [
    "random_seed = 72\n",
    "random.seed(random_seed)\n",
    "np.random.seed(random_seed)\n",
    "\n",
    "df = pd.read_csv(\"../dataset/aps_failure_training_set.csv\")\n",
    "df_test = pd.read_csv(\"../dataset/aps_failure_test_set.csv\")"
   ]
  },
  {
   "cell_type": "code",
   "execution_count": 4,
   "metadata": {},
   "outputs": [
    {
     "data": {
      "text/html": [
       "<div>\n",
       "<style scoped>\n",
       "    .dataframe tbody tr th:only-of-type {\n",
       "        vertical-align: middle;\n",
       "    }\n",
       "\n",
       "    .dataframe tbody tr th {\n",
       "        vertical-align: top;\n",
       "    }\n",
       "\n",
       "    .dataframe thead th {\n",
       "        text-align: right;\n",
       "    }\n",
       "</style>\n",
       "<table border=\"1\" class=\"dataframe\">\n",
       "  <thead>\n",
       "    <tr style=\"text-align: right;\">\n",
       "      <th></th>\n",
       "      <th>class</th>\n",
       "      <th>aa_000</th>\n",
       "      <th>ab_000</th>\n",
       "      <th>ac_000</th>\n",
       "      <th>ad_000</th>\n",
       "      <th>ae_000</th>\n",
       "      <th>af_000</th>\n",
       "      <th>ag_000</th>\n",
       "      <th>ag_001</th>\n",
       "      <th>ag_002</th>\n",
       "      <th>...</th>\n",
       "      <th>ee_002</th>\n",
       "      <th>ee_003</th>\n",
       "      <th>ee_004</th>\n",
       "      <th>ee_005</th>\n",
       "      <th>ee_006</th>\n",
       "      <th>ee_007</th>\n",
       "      <th>ee_008</th>\n",
       "      <th>ee_009</th>\n",
       "      <th>ef_000</th>\n",
       "      <th>eg_000</th>\n",
       "    </tr>\n",
       "  </thead>\n",
       "  <tbody>\n",
       "    <tr>\n",
       "      <th>0</th>\n",
       "      <td>neg</td>\n",
       "      <td>76698</td>\n",
       "      <td>na</td>\n",
       "      <td>2130706438</td>\n",
       "      <td>280</td>\n",
       "      <td>0</td>\n",
       "      <td>0</td>\n",
       "      <td>0</td>\n",
       "      <td>0</td>\n",
       "      <td>0</td>\n",
       "      <td>...</td>\n",
       "      <td>1240520</td>\n",
       "      <td>493384</td>\n",
       "      <td>721044</td>\n",
       "      <td>469792</td>\n",
       "      <td>339156</td>\n",
       "      <td>157956</td>\n",
       "      <td>73224</td>\n",
       "      <td>0</td>\n",
       "      <td>0</td>\n",
       "      <td>0</td>\n",
       "    </tr>\n",
       "    <tr>\n",
       "      <th>1</th>\n",
       "      <td>neg</td>\n",
       "      <td>33058</td>\n",
       "      <td>na</td>\n",
       "      <td>0</td>\n",
       "      <td>na</td>\n",
       "      <td>0</td>\n",
       "      <td>0</td>\n",
       "      <td>0</td>\n",
       "      <td>0</td>\n",
       "      <td>0</td>\n",
       "      <td>...</td>\n",
       "      <td>421400</td>\n",
       "      <td>178064</td>\n",
       "      <td>293306</td>\n",
       "      <td>245416</td>\n",
       "      <td>133654</td>\n",
       "      <td>81140</td>\n",
       "      <td>97576</td>\n",
       "      <td>1500</td>\n",
       "      <td>0</td>\n",
       "      <td>0</td>\n",
       "    </tr>\n",
       "    <tr>\n",
       "      <th>2</th>\n",
       "      <td>neg</td>\n",
       "      <td>41040</td>\n",
       "      <td>na</td>\n",
       "      <td>228</td>\n",
       "      <td>100</td>\n",
       "      <td>0</td>\n",
       "      <td>0</td>\n",
       "      <td>0</td>\n",
       "      <td>0</td>\n",
       "      <td>0</td>\n",
       "      <td>...</td>\n",
       "      <td>277378</td>\n",
       "      <td>159812</td>\n",
       "      <td>423992</td>\n",
       "      <td>409564</td>\n",
       "      <td>320746</td>\n",
       "      <td>158022</td>\n",
       "      <td>95128</td>\n",
       "      <td>514</td>\n",
       "      <td>0</td>\n",
       "      <td>0</td>\n",
       "    </tr>\n",
       "    <tr>\n",
       "      <th>3</th>\n",
       "      <td>neg</td>\n",
       "      <td>12</td>\n",
       "      <td>0</td>\n",
       "      <td>70</td>\n",
       "      <td>66</td>\n",
       "      <td>0</td>\n",
       "      <td>10</td>\n",
       "      <td>0</td>\n",
       "      <td>0</td>\n",
       "      <td>0</td>\n",
       "      <td>...</td>\n",
       "      <td>240</td>\n",
       "      <td>46</td>\n",
       "      <td>58</td>\n",
       "      <td>44</td>\n",
       "      <td>10</td>\n",
       "      <td>0</td>\n",
       "      <td>0</td>\n",
       "      <td>0</td>\n",
       "      <td>4</td>\n",
       "      <td>32</td>\n",
       "    </tr>\n",
       "    <tr>\n",
       "      <th>4</th>\n",
       "      <td>neg</td>\n",
       "      <td>60874</td>\n",
       "      <td>na</td>\n",
       "      <td>1368</td>\n",
       "      <td>458</td>\n",
       "      <td>0</td>\n",
       "      <td>0</td>\n",
       "      <td>0</td>\n",
       "      <td>0</td>\n",
       "      <td>0</td>\n",
       "      <td>...</td>\n",
       "      <td>622012</td>\n",
       "      <td>229790</td>\n",
       "      <td>405298</td>\n",
       "      <td>347188</td>\n",
       "      <td>286954</td>\n",
       "      <td>311560</td>\n",
       "      <td>433954</td>\n",
       "      <td>1218</td>\n",
       "      <td>0</td>\n",
       "      <td>0</td>\n",
       "    </tr>\n",
       "  </tbody>\n",
       "</table>\n",
       "<p>5 rows × 171 columns</p>\n",
       "</div>"
      ],
      "text/plain": [
       "  class  aa_000 ab_000      ac_000 ad_000 ae_000 af_000 ag_000 ag_001 ag_002  \\\n",
       "0   neg   76698     na  2130706438    280      0      0      0      0      0   \n",
       "1   neg   33058     na           0     na      0      0      0      0      0   \n",
       "2   neg   41040     na         228    100      0      0      0      0      0   \n",
       "3   neg      12      0          70     66      0     10      0      0      0   \n",
       "4   neg   60874     na        1368    458      0      0      0      0      0   \n",
       "\n",
       "   ...     ee_002  ee_003  ee_004  ee_005  ee_006  ee_007  ee_008 ee_009  \\\n",
       "0  ...    1240520  493384  721044  469792  339156  157956   73224      0   \n",
       "1  ...     421400  178064  293306  245416  133654   81140   97576   1500   \n",
       "2  ...     277378  159812  423992  409564  320746  158022   95128    514   \n",
       "3  ...        240      46      58      44      10       0       0      0   \n",
       "4  ...     622012  229790  405298  347188  286954  311560  433954   1218   \n",
       "\n",
       "  ef_000 eg_000  \n",
       "0      0      0  \n",
       "1      0      0  \n",
       "2      0      0  \n",
       "3      4     32  \n",
       "4      0      0  \n",
       "\n",
       "[5 rows x 171 columns]"
      ]
     },
     "execution_count": 4,
     "metadata": {},
     "output_type": "execute_result"
    }
   ],
   "source": [
    "df.head()\n"
   ]
  },
  {
   "cell_type": "code",
   "execution_count": 5,
   "metadata": {},
   "outputs": [],
   "source": [
    "df = df.rename(columns = {'class' : 'Flag'})\n",
    "df['Flag'] = df.Flag.map({'neg':0, 'pos':1})\n",
    "df = df.replace(['na'],[np.NaN])"
   ]
  },
  {
   "cell_type": "code",
   "execution_count": 6,
   "metadata": {},
   "outputs": [
    {
     "data": {
      "text/plain": [
       "Flag      False\n",
       "aa_000    False\n",
       "ab_000     True\n",
       "ac_000     True\n",
       "ad_000     True\n",
       "ae_000     True\n",
       "af_000     True\n",
       "ag_000     True\n",
       "ag_001     True\n",
       "ag_002     True\n",
       "ag_003     True\n",
       "ag_004     True\n",
       "ag_005     True\n",
       "ag_006     True\n",
       "ag_007     True\n",
       "ag_008     True\n",
       "ag_009     True\n",
       "ah_000     True\n",
       "ai_000     True\n",
       "aj_000     True\n",
       "ak_000     True\n",
       "al_000     True\n",
       "am_0       True\n",
       "an_000     True\n",
       "ao_000     True\n",
       "ap_000     True\n",
       "aq_000     True\n",
       "ar_000     True\n",
       "as_000     True\n",
       "at_000     True\n",
       "          ...  \n",
       "dl_000     True\n",
       "dm_000     True\n",
       "dn_000     True\n",
       "do_000     True\n",
       "dp_000     True\n",
       "dq_000     True\n",
       "dr_000     True\n",
       "ds_000     True\n",
       "dt_000     True\n",
       "du_000     True\n",
       "dv_000     True\n",
       "dx_000     True\n",
       "dy_000     True\n",
       "dz_000     True\n",
       "ea_000     True\n",
       "eb_000     True\n",
       "ec_00      True\n",
       "ed_000     True\n",
       "ee_000     True\n",
       "ee_001     True\n",
       "ee_002     True\n",
       "ee_003     True\n",
       "ee_004     True\n",
       "ee_005     True\n",
       "ee_006     True\n",
       "ee_007     True\n",
       "ee_008     True\n",
       "ee_009     True\n",
       "ef_000     True\n",
       "eg_000     True\n",
       "Length: 171, dtype: bool"
      ]
     },
     "execution_count": 6,
     "metadata": {},
     "output_type": "execute_result"
    }
   ],
   "source": [
    "df.isnull().any()\n"
   ]
  },
  {
   "cell_type": "code",
   "execution_count": 7,
   "metadata": {},
   "outputs": [
    {
     "data": {
      "text/plain": [
       "Text(0,0.5,'Frequency')"
      ]
     },
     "execution_count": 7,
     "metadata": {},
     "output_type": "execute_result"
    },
    {
     "data": {
      "image/png": "[encoded data removed]",
      "text/plain": [
       "<Figure size 432x288 with 1 Axes>"
      ]
     },
     "metadata": {},
     "output_type": "display_data"
    }
   ],
   "source": [
    "Count = pd.value_counts(df['Flag'], sort = True).sort_index()\n",
    "Count.plot(kind = 'bar')\n",
    "plt.title(\"Class count\")\n",
    "plt.xlabel(\"Flag\")\n",
    "plt.ylabel(\"Frequency\")"
   ]
  },
  {
   "cell_type": "code",
   "execution_count": 8,
   "metadata": {},
   "outputs": [
    {
     "data": {
      "text/plain": [
       "82"
      ]
     },
     "execution_count": 8,
     "metadata": {},
     "output_type": "execute_result"
    }
   ],
   "source": [
    "df_X = df.loc[:,df.columns != 'Flag']\n",
    "df_Y = df.loc[:,df.columns == 'Flag']\n",
    "\n",
    "df_X = df_X.apply(pd.to_numeric)\n",
    "\n",
    "df_X= df_X.fillna(df_X.mean()).dropna(axis =1 , how ='all')\n",
    "\n",
    "scaler = StandardScaler()\n",
    "\n",
    "scaler.fit(df_X)\n",
    "\n",
    "df_X = scaler.transform(df_X)\n",
    "\n",
    "pca = PCA(0.95)\n",
    "\n",
    "pca.fit(df_X)\n",
    "\n",
    "pca.n_components_"
   ]
  },
  {
   "cell_type": "code",
   "execution_count": 9,
   "metadata": {},
   "outputs": [],
   "source": [
    "df_X = pca.transform(df_X)\n",
    "\n",
    "df_X= pd.DataFrame(df_X)"
   ]
  },
  {
   "cell_type": "code",
   "execution_count": 10,
   "metadata": {},
   "outputs": [
    {
     "data": {
      "image/png": "[encoded data removed]",
      "text/plain": [
       "<Figure size 432x288 with 1 Axes>"
      ]
     },
     "metadata": {},
     "output_type": "display_data"
    }
   ],
   "source": [
    "df_test = df_test.rename(columns = {'class' : 'Flag'})\n",
    "df_test = df_test.replace(['na'],[np.NaN])\n",
    "\n",
    "Count = pd.value_counts(df_test['Flag'], sort = True).sort_index()\n",
    "Count.plot(kind = 'bar')\n",
    "plt.title(\"Class count\")\n",
    "plt.xlabel(\"Flag\")\n",
    "plt.ylabel(\"Frequency\")\n",
    "\n",
    "df_test['Flag'] = df_test.Flag.map({'neg':0, 'pos':1})\n",
    "\n",
    "df_test_X = df_test.loc[:,df_test.columns != 'Flag']\n",
    "df_test_Y = df_test.loc[:,df_test.columns == 'Flag']\n",
    "\n",
    "df_test_X = df_test_X.apply(pd.to_numeric)\n",
    "\n",
    "df_test_X= df_test_X.fillna(df_test_X.mean()).dropna(axis =1 , how ='all')\n",
    "\n",
    "scaler = StandardScaler()\n",
    "\n",
    "scaler.fit(df_test_X)\n",
    "\n",
    "df_test_X = scaler.transform(df_test_X)\n",
    "\n",
    "pca = PCA(82)\n",
    "\n",
    "pca.fit(df_test_X)\n",
    "\n",
    "pca.n_components_\n",
    "\n",
    "df_test_X = pca.transform(df_test_X)\n",
    "\n",
    "df_test_X= pd.DataFrame(df_test_X)"
   ]
  },
  {
   "cell_type": "code",
   "execution_count": 11,
   "metadata": {},
   "outputs": [
    {
     "name": "stdout",
     "output_type": "stream",
     "text": [
      "Percentage Neg in training:  0.983\n",
      "Percentage Pos in training:  0.017\n",
      "Total number of datapoints in training:  48000\n",
      "Percentage Neg in Validation:  0.9846666666666667\n",
      "Percentage Pos in Validation:  0.015333333333333332\n",
      "Total number of datapoints in Validation:  12000\n"
     ]
    }
   ],
   "source": [
    "X_train,X_validation,Y_train,Y_validation = train_test_split(df_X,df_Y,test_size = 0.2,random_state = 0)\n",
    "DF = pd.concat([X_train,Y_train],axis = 1)\n",
    "\n",
    "print(\"Percentage Neg in training: \" , len(Y_train[Y_train.Flag == 0])/len(Y_train))\n",
    "print(\"Percentage Pos in training: \", len(Y_train[Y_train.Flag == 1])/len(Y_train))\n",
    "print(\"Total number of datapoints in training: \", len(Y_train))\n",
    "\n",
    "\n",
    "print(\"Percentage Neg in Validation: \" , len(Y_validation[Y_validation.Flag == 0])/len(Y_validation))\n",
    "print(\"Percentage Pos in Validation: \", len(Y_validation[Y_validation.Flag == 1])/len(Y_validation))\n",
    "print(\"Total number of datapoints in Validation: \", len(Y_validation))"
   ]
  },
  {
   "cell_type": "code",
   "execution_count": 12,
   "metadata": {},
   "outputs": [
    {
     "name": "stdout",
     "output_type": "stream",
     "text": [
      "Percentage Neg:  0.5\n",
      "Percentage Pos :  0.5\n",
      "Total number of datapoints :  1632\n"
     ]
    }
   ],
   "source": [
    "numberofrecords_pos = len(DF[DF.Flag == 1])\n",
    "pos_indices = np.array(DF[DF.Flag == 1].index)\n",
    "\n",
    "#Picking the indices of the normal class\n",
    "neg_indices = DF[DF.Flag == 0].index\n",
    "\n",
    "#out of indices selected, randomly select \"x\" number of records\n",
    "random_neg_indices = np.random.choice(neg_indices, numberofrecords_pos, replace = False)\n",
    "random_neg_indices =np.array(random_neg_indices)\n",
    "\n",
    "#Appending the two indices\n",
    "under_sample_indices = np.concatenate([pos_indices,random_neg_indices])\n",
    "\n",
    "#Undersample dataset\n",
    "under_sample_data = DF.loc[under_sample_indices,:]\n",
    "\n",
    "X_undersample = under_sample_data.loc[:,under_sample_data.columns != 'Flag']\n",
    "Y_undersample = under_sample_data.loc[:,under_sample_data.columns == 'Flag']\n",
    "\n",
    "print(\"Percentage Neg: \" , len(under_sample_data[under_sample_data.Flag == 0])/len(under_sample_data))\n",
    "print(\"Percentage Pos : \", len(under_sample_data[under_sample_data.Flag == 1])/len(under_sample_data))\n",
    "print(\"Total number of datapoints : \", len(under_sample_data))"
   ]
  },
  {
   "cell_type": "code",
   "execution_count": 13,
   "metadata": {},
   "outputs": [
    {
     "data": {
      "image/png": "[encoded data removed]",
      "text/plain": [
       "<Figure size 432x288 with 1 Axes>"
      ]
     },
     "metadata": {},
     "output_type": "display_data"
    }
   ],
   "source": [
    "RANDOM_STATE = 123\n",
    "\n",
    "import warnings\n",
    "warnings.filterwarnings(\"ignore\")\n",
    "ensemble_clfs = [\n",
    "    (\"RandomForestClassifier, max_features='sqrt'\",\n",
    "        RandomForestClassifier(warm_start=True, oob_score=True,\n",
    "                               max_features=\"sqrt\",\n",
    "                               random_state=RANDOM_STATE)),\n",
    "    (\"RandomForestClassifier, max_features='log2'\",\n",
    "        RandomForestClassifier(warm_start=True, max_features='log2',\n",
    "                               oob_score=True,\n",
    "                               random_state=RANDOM_STATE)),\n",
    "    (\"RandomForestClassifier, max_features=None\",\n",
    "        RandomForestClassifier(warm_start=True, max_features=None,\n",
    "                               oob_score=True,\n",
    "                               random_state=RANDOM_STATE))\n",
    "]\n",
    "\n",
    "# Map a classifier name to a list of (<n_estimators>, <error rate>) pairs.\n",
    "error_rate = OrderedDict((label, []) for label, _ in ensemble_clfs)\n",
    "\n",
    "# Range of `n_estimators` values to explore.\n",
    "min_estimators = 15\n",
    "max_estimators = 150\n",
    "\n",
    "for label, clf in ensemble_clfs:\n",
    "    for i in range(min_estimators, max_estimators + 1):\n",
    "        clf.set_params(n_estimators=i)\n",
    "        clf.fit(X_undersample, Y_undersample)\n",
    "\n",
    "        # Record the OOB error for each `n_estimators=i` setting.\n",
    "        y_pred = clf.predict(X_validation)\n",
    "        recall = recall_score(Y_validation,y_pred)\n",
    "        error = 1 - recall\n",
    "        error_rate[label].append((i, error))\n",
    "\n",
    "# Generate the \"OOB error rate\" vs. \"n_estimators\" plot.\n",
    "for label, clf_err in error_rate.items():\n",
    "    xs, ys = zip(*clf_err)\n",
    "    plt.plot(xs, ys, label=label)\n",
    "\n",
    "plt.xlim(min_estimators, max_estimators)\n",
    "plt.xlabel(\"n_estimators\")\n",
    "plt.ylabel(\"Recall error rate\")\n",
    "plt.legend(loc=\"upper right\")\n",
    "plt.show()"
   ]
  },
  {
   "cell_type": "code",
   "execution_count": 14,
   "metadata": {},
   "outputs": [
    {
     "data": {
      "text/plain": [
       "0.9733333333333334"
      ]
     },
     "execution_count": 14,
     "metadata": {},
     "output_type": "execute_result"
    }
   ],
   "source": [
    "clf = RandomForestClassifier(n_estimators=25,max_features= 'log2',oob_score =True)\n",
    "\n",
    "clf.fit(X_undersample,Y_undersample.values.ravel())\n",
    "\n",
    "clf.oob_score_\n",
    "\n",
    "y_pred = clf.predict(df_test_X)\n",
    "recall_score(df_test_Y,y_pred)"
   ]
  },
  {
   "cell_type": "code",
   "execution_count": 15,
   "metadata": {},
   "outputs": [
    {
     "data": {
      "text/plain": [
       "array([[13843,  1782],\n",
       "       [   10,   365]], dtype=int64)"
      ]
     },
     "execution_count": 15,
     "metadata": {},
     "output_type": "execute_result"
    }
   ],
   "source": [
    "confusion_matrix(df_test_Y,y_pred)\n"
   ]
  },
  {
   "cell_type": "code",
   "execution_count": null,
   "metadata": {},
   "outputs": [],
   "source": []
  }
 ],
 "metadata": {
  "kernelspec": {
   "display_name": "Python 3",
   "language": "python",
   "name": "python3"
  },
  "language_info": {
   "codemirror_mode": {
    "name": "ipython",
    "version": 3
   },
   "file_extension": ".py",
   "mimetype": "text/x-python",
   "name": "python",
   "nbconvert_exporter": "python",
   "pygments_lexer": "ipython3",
   "version": "3.6.5"
  }
 },
 "nbformat": 4,
 "nbformat_minor": 2
}
